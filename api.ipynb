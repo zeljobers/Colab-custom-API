{
  "nbformat": 4,
  "nbformat_minor": 0,
  "metadata": {
    "colab": {
      "provenance": [],
      "authorship_tag": "ABX9TyMLbYZVbIO/EhxBOT3fmyd7",
      "include_colab_link": true
    },
    "kernelspec": {
      "name": "python3",
      "display_name": "Python 3"
    },
    "language_info": {
      "name": "python"
    }
  },
  "cells": [
    {
      "cell_type": "markdown",
      "metadata": {
        "id": "view-in-github",
        "colab_type": "text"
      },
      "source": [
        "<a href=\"https://colab.research.google.com/github/zeljobers/Colab-custom-API/blob/main/api.ipynb\" target=\"_parent\"><img src=\"https://colab.research.google.com/assets/colab-badge.svg\" alt=\"Open In Colab\"/></a>"
      ]
    },
    {
      "cell_type": "code",
      "execution_count": 1,
      "metadata": {
        "colab": {
          "base_uri": "https://localhost:8080/"
        },
        "id": "XCIzywSv5e0o",
        "outputId": "7bff933a-ef63-429f-c906-a4dddbad5a28"
      },
      "outputs": [
        {
          "output_type": "stream",
          "name": "stdout",
          "text": [
            "Requirement already satisfied: flask in /usr/local/lib/python3.10/dist-packages (2.2.5)\n",
            "Requirement already satisfied: Werkzeug>=2.2.2 in /usr/local/lib/python3.10/dist-packages (from flask) (3.0.3)\n",
            "Requirement already satisfied: Jinja2>=3.0 in /usr/local/lib/python3.10/dist-packages (from flask) (3.1.4)\n",
            "Requirement already satisfied: itsdangerous>=2.0 in /usr/local/lib/python3.10/dist-packages (from flask) (2.2.0)\n",
            "Requirement already satisfied: click>=8.0 in /usr/local/lib/python3.10/dist-packages (from flask) (8.1.7)\n",
            "Requirement already satisfied: MarkupSafe>=2.0 in /usr/local/lib/python3.10/dist-packages (from Jinja2>=3.0->flask) (2.1.5)\n",
            "--2024-07-23 11:33:22--  https://bin.equinox.io/c/bNyj1mQVY4c/ngrok-v3-stable-linux-amd64.tgz\n",
            "Resolving bin.equinox.io (bin.equinox.io)... 18.205.222.128, 54.161.241.46, 52.202.168.65, ...\n",
            "Connecting to bin.equinox.io (bin.equinox.io)|18.205.222.128|:443... connected.\n",
            "HTTP request sent, awaiting response... 200 OK\n",
            "Length: 8941082 (8.5M) [application/octet-stream]\n",
            "Saving to: ‘ngrok-v3-stable-linux-amd64.tgz’\n",
            "\n",
            "ngrok-v3-stable-lin 100%[===================>]   8.53M  43.7MB/s    in 0.2s    \n",
            "\n",
            "2024-07-23 11:33:23 (43.7 MB/s) - ‘ngrok-v3-stable-linux-amd64.tgz’ saved [8941082/8941082]\n",
            "\n",
            "ngrok\n"
          ]
        }
      ],
      "source": [
        "!pip install flask\n",
        "!wget https://bin.equinox.io/c/bNyj1mQVY4c/ngrok-v3-stable-linux-amd64.tgz\n",
        "!tar -xvzf ngrok-v3-stable-linux-amd64.tgz"
      ]
    },
    {
      "cell_type": "markdown",
      "source": [
        "1. https://stackoverflow.com/questions/64084669/how-to-run-a-python-script-in-background-in-google-collab\n",
        "2. https://github.com/AUTOMATIC1111/stable-diffusion-webui/discussions/4893\n"
      ],
      "metadata": {
        "id": "IlNTVeREJbXO"
      }
    },
    {
      "cell_type": "code",
      "source": [
        "%%writefile app.py\n",
        "# %%python --bg\n",
        "from flask import Flask, jsonify\n",
        "\n",
        "app = Flask(__name__)\n",
        "\n",
        "@app.route('/')\n",
        "def home():\n",
        "    return jsonify({\"message\": \"Hello, World!\"})\n",
        "\n",
        "if __name__ == '__main__':\n",
        "    app.run(port=5000)"
      ],
      "metadata": {
        "colab": {
          "base_uri": "https://localhost:8080/"
        },
        "id": "uPAfioZ6ArPG",
        "outputId": "5f6c63df-a3ef-41b8-b15a-8d89f7126349"
      },
      "execution_count": 2,
      "outputs": [
        {
          "output_type": "stream",
          "name": "stdout",
          "text": [
            "Writing app.py\n"
          ]
        }
      ]
    },
    {
      "cell_type": "code",
      "source": [
        "# get_ipython().system_raw('./ngrok tunnel --label edge=edghts_2i32EvePxo8Zp9WRdIilg7jQ0hc http://127.0.0.1:5000 &')\n",
        "# get_ipython().system_raw('./ngrok http 5000 &')"
      ],
      "metadata": {
        "id": "hnV-CXqa8vaH"
      },
      "execution_count": 3,
      "outputs": []
    },
    {
      "cell_type": "markdown",
      "source": [
        "**Also, it is necessary to make an ngrok account, to update [ngrok secret OAuth key](https://dashboard.ngrok.com/get-started/your-authtoken)**.\n"
      ],
      "metadata": {
        "id": "wMLdY9ttQ6rW"
      }
    },
    {
      "cell_type": "code",
      "source": [
        "# !./ngrok config add-authtoken <authentification-token>"
      ],
      "metadata": {
        "colab": {
          "base_uri": "https://localhost:8080/"
        },
        "id": "2szROqJlTjdp",
        "outputId": "e5a4e94e-23ed-4c00-b7ec-7b16df1dc65f"
      },
      "execution_count": 4,
      "outputs": [
        {
          "output_type": "stream",
          "name": "stdout",
          "text": [
            "Authtoken saved to configuration file: /root/.config/ngrok/ngrok.yml\n"
          ]
        }
      ]
    },
    {
      "cell_type": "markdown",
      "source": [
        "**If no static addresses were provided by the ngrok, use `!./ngrok http 5000` command and try to find your own dynamic address [here](https://dashboard.ngrok.com/cloud-edge/endpoints).**"
      ],
      "metadata": {
        "id": "X3HumSeHUvcQ"
      }
    },
    {
      "cell_type": "code",
      "source": [
        "%%script bash --bg\n",
        "./ngrok tunnel --label edge=edghts_2i32EvePxo8Zp9WRdIilg7jQ0hc http://127.0.0.1:5000"
      ],
      "metadata": {
        "id": "9dIuzWliCnfF"
      },
      "execution_count": 5,
      "outputs": []
    },
    {
      "cell_type": "code",
      "source": [
        "!python app.py --api --share"
      ],
      "metadata": {
        "colab": {
          "base_uri": "https://localhost:8080/"
        },
        "id": "73f8rVL3Wowe",
        "outputId": "7ef70c06-9810-492d-fddb-29845b96b573"
      },
      "execution_count": 6,
      "outputs": [
        {
          "output_type": "stream",
          "name": "stdout",
          "text": [
            " * Serving Flask app 'app'\n",
            " * Debug mode: off\n",
            "\u001b[31m\u001b[1mWARNING: This is a development server. Do not use it in a production deployment. Use a production WSGI server instead.\u001b[0m\n",
            " * Running on http://127.0.0.1:5000\n",
            "\u001b[33mPress CTRL+C to quit\u001b[0m\n",
            "127.0.0.1 - - [23/Jul/2024 11:33:27] \"GET / HTTP/1.1\" 200 -\n",
            "127.0.0.1 - - [23/Jul/2024 11:33:28] \"GET / HTTP/1.1\" 200 -\n",
            "^C\n"
          ]
        }
      ]
    }
  ]
}