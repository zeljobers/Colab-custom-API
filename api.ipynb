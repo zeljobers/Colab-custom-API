{
  "nbformat": 4,
  "nbformat_minor": 0,
  "metadata": {
    "colab": {
      "provenance": [],
      "authorship_tag": "ABX9TyNYIP6ryVnyEcK0qBVOXKxp",
      "include_colab_link": true
    },
    "kernelspec": {
      "name": "python3",
      "display_name": "Python 3"
    },
    "language_info": {
      "name": "python"
    }
  },
  "cells": [
    {
      "cell_type": "markdown",
      "metadata": {
        "id": "view-in-github",
        "colab_type": "text"
      },
      "source": [
        "<a href=\"https://colab.research.google.com/github/zeljobers/Colab-custom-API/blob/main/api.ipynb\" target=\"_parent\"><img src=\"https://colab.research.google.com/assets/colab-badge.svg\" alt=\"Open In Colab\"/></a>"
      ]
    },
    {
      "cell_type": "code",
      "execution_count": null,
      "metadata": {
        "colab": {
          "base_uri": "https://localhost:8080/"
        },
        "id": "XCIzywSv5e0o",
        "outputId": "b1540732-3b4f-40c9-88b5-6f79e1f59c47"
      },
      "outputs": [
        {
          "output_type": "stream",
          "name": "stdout",
          "text": [
            "Requirement already satisfied: flask in /usr/local/lib/python3.10/dist-packages (2.2.5)\n",
            "Requirement already satisfied: Werkzeug>=2.2.2 in /usr/local/lib/python3.10/dist-packages (from flask) (3.0.3)\n",
            "Requirement already satisfied: Jinja2>=3.0 in /usr/local/lib/python3.10/dist-packages (from flask) (3.1.4)\n",
            "Requirement already satisfied: itsdangerous>=2.0 in /usr/local/lib/python3.10/dist-packages (from flask) (2.2.0)\n",
            "Requirement already satisfied: click>=8.0 in /usr/local/lib/python3.10/dist-packages (from flask) (8.1.7)\n",
            "Requirement already satisfied: MarkupSafe>=2.0 in /usr/local/lib/python3.10/dist-packages (from Jinja2>=3.0->flask) (2.1.5)\n",
            "--2024-07-23 10:31:52--  https://bin.equinox.io/c/bNyj1mQVY4c/ngrok-v3-stable-linux-amd64.tgz\n",
            "Resolving bin.equinox.io (bin.equinox.io)... 18.205.222.128, 52.202.168.65, 54.237.133.81, ...\n",
            "Connecting to bin.equinox.io (bin.equinox.io)|18.205.222.128|:443... connected.\n",
            "HTTP request sent, awaiting response... 200 OK\n",
            "Length: 8941082 (8.5M) [application/octet-stream]\n",
            "Saving to: ‘ngrok-v3-stable-linux-amd64.tgz.9’\n",
            "\n",
            "ngrok-v3-stable-lin 100%[===================>]   8.53M  13.4MB/s    in 0.6s    \n",
            "\n",
            "2024-07-23 10:31:53 (13.4 MB/s) - ‘ngrok-v3-stable-linux-amd64.tgz.9’ saved [8941082/8941082]\n",
            "\n",
            "ngrok\n"
          ]
        }
      ],
      "source": [
        "!pip install flask\n",
        "!wget https://bin.equinox.io/c/bNyj1mQVY4c/ngrok-v3-stable-linux-amd64.tgz\n",
        "!tar -xvzf ngrok-v3-stable-linux-amd64.tgz\n",
        "####\n",
        "\n",
        "###\n",
        "\n"
      ]
    },
    {
      "cell_type": "markdown",
      "source": [
        "1. https://stackoverflow.com/questions/64084669/how-to-run-a-python-script-in-background-in-google-collab\n",
        "2. https://github.com/AUTOMATIC1111/stable-diffusion-webui/discussions/4893\n"
      ],
      "metadata": {
        "id": "IlNTVeREJbXO"
      }
    },
    {
      "cell_type": "code",
      "source": [
        "%%writefile app.py\n",
        "# %%python --bg\n",
        "from flask import Flask, jsonify\n",
        "\n",
        "app = Flask(__name__)\n",
        "\n",
        "@app.route('/')\n",
        "def home():\n",
        "    return jsonify({\"message\": \"Hello, World!\"})\n",
        "\n",
        "if __name__ == '__main__':\n",
        "    app.run(port=5000)"
      ],
      "metadata": {
        "colab": {
          "base_uri": "https://localhost:8080/"
        },
        "id": "uPAfioZ6ArPG",
        "outputId": "75c28ecf-87cc-4a29-bbf1-1722f18b6af8"
      },
      "execution_count": null,
      "outputs": [
        {
          "output_type": "stream",
          "name": "stdout",
          "text": [
            "Overwriting app.py\n"
          ]
        }
      ]
    },
    {
      "cell_type": "code",
      "source": [
        "%%script bash --bg\n",
        "!python app.py --api --share"
      ],
      "metadata": {
        "id": "oTjl40AJIbk2"
      },
      "execution_count": null,
      "outputs": []
    },
    {
      "cell_type": "code",
      "source": [
        "# get_ipython().system_raw('!./ngrok tunnel --label edge=edghts_2i32EvePxo8Zp9WRdIilg7jQ0hc http://127.0.0.1:5000 &')\n",
        "# get_ipython().system_raw('./ngrok http 5000 &')"
      ],
      "metadata": {
        "id": "hnV-CXqa8vaH"
      },
      "execution_count": null,
      "outputs": []
    },
    {
      "cell_type": "code",
      "source": [
        "%%script bash --bg\n",
        "./ngrok tunnel --label edge=edghts_2i32EvePxo8Zp9WRdIilg7jQ0hc http://localhost:5000"
      ],
      "metadata": {
        "id": "9dIuzWliCnfF"
      },
      "execution_count": null,
      "outputs": []
    }
  ]
}